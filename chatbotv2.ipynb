{
 "cells": [
  {
   "cell_type": "code",
   "execution_count": 1,
   "id": "91466448",
   "metadata": {},
   "outputs": [],
   "source": [
    "import requests\n",
    "import gradio as gr\n",
    "import json\n",
    "from getpass import getpass\n",
    "from huggingface_hub import login"
   ]
  },
  {
   "cell_type": "code",
   "execution_count": null,
   "id": "fe70c6a2",
   "metadata": {},
   "outputs": [],
   "source": [
    "login(token=\"#change the token into your hf token \") #change the token into your hf token \n",
    "API_URL = \"https://api-inference.huggingface.co/models/mistralai/Mistral-7B-Instruct-v0.2\"\n",
    "headers = {\"Authorization\": f\"Bearer {'#change the token into your hf token '}\"}"
   ]
  },
  {
   "cell_type": "code",
   "execution_count": 3,
   "id": "4c737f46",
   "metadata": {},
   "outputs": [],
   "source": [
    "def check_model_status(url):\n",
    "    try:\n",
    "        response = requests.post(url, headers=headers, json={\"inputs\": \"test\"})\n",
    "        return \"Model is ready\" if response.status_code == 200 else f\"Status: {response.status_code}\"\n",
    "    except Exception as e:\n",
    "        return f\"Connection error: {str(e)}\""
   ]
  },
  {
   "cell_type": "code",
   "execution_count": 20,
   "id": "68f15c3b",
   "metadata": {},
   "outputs": [],
   "source": [
    "\n",
    "def generate_response(task, user_input):\n",
    "    try:\n",
    "        if task == \"FAQ\":\n",
    "            prompt = f\"\"\"Answer these common questions based on examples:\n",
    "\n",
    "Q: What is your return policy?\n",
    "A: We accept returns within 30 days of purchase.\n",
    "\n",
    "Q: How do I track my order?\n",
    "A: Use the tracking number in your confirmation email.\n",
    "\n",
    "Q: {user_input}\n",
    "A: \"\"\"\n",
    "        elif task == \"Math\":\n",
    "            prompt = f\"\"\"Solve this problem step-by-step. \n",
    "Example: \n",
    "Problem: If Jane has 3 apples and buys 5 more, how many does she have?\n",
    "Solution: \n",
    "1. Start with initial apples: 3\n",
    "2. Add purchased apples: 3 + 5 = 8\n",
    "3. Final answer: 8\n",
    "\n",
    "Problem: {user_input}\n",
    "Solution:\"\"\"\n",
    "        elif task == \"Joke\":\n",
    "            prompt = f\"\"\"Generate a joke about {user_input} formatted as JSON with setup and punchline keys.\n",
    "\n",
    "Example:\n",
    "{{\n",
    "    \"setup\": \"Why did the programmer quit their job?\",\n",
    "    \"punchline\": \"Because they didn't get arrays!\"\n",
    "}}\n",
    "\n",
    "New joke:\"\"\"\n",
    "\n",
    "        payload = {\n",
    "            \"inputs\": prompt,\n",
    "            \"parameters\": {\n",
    "                \"max_new_tokens\": 200,\n",
    "                \"temperature\": 0.7,\n",
    "                \"return_full_text\": False\n",
    "            }\n",
    "        }\n",
    "\n",
    "        response = requests.post(API_URL, headers=headers, json=payload)\n",
    "        output = json.loads(response.content.decode(\"utf-8\"))\n",
    "\n",
    "        if \"error\" in output:\n",
    "            return f\"⚠️ Model error: {output['error']}\"\n",
    "\n",
    "        answer = output[0]['generated_text'].strip()\n",
    "\n",
    "        # Trim repeated examples\n",
    "        if task == \"Math\":\n",
    "            parts = answer.split(\"Problem:\")\n",
    "            for part in parts:\n",
    "                if user_input.strip() in part:\n",
    "                    return \"Problem:\" + part.strip()\n",
    "            return parts[0].strip()\n",
    "\n",
    "        return answer\n",
    "\n",
    "    except Exception as e:\n",
    "        return f\"❌ Error: {str(e)}\""
   ]
  },
  {
   "cell_type": "code",
   "execution_count": 21,
   "id": "99244b49",
   "metadata": {},
   "outputs": [],
   "source": [
    "\n",
    "def chat(task, user_input):\n",
    "    if not user_input:\n",
    "        return gr.update(), gr.update()\n",
    "    response = generate_response(task, user_input)\n",
    "    chat_history.append(f\"**You:** {user_input}\\n**Bot:** {response}\")\n",
    "    return \"\\n\\n---\\n\\n\".join(chat_history), response\n",
    "\n",
    "def clear():\n",
    "    chat_history.clear()\n",
    "    return \"\", \"\""
   ]
  },
  {
   "cell_type": "code",
   "execution_count": 22,
   "id": "3332ff4f",
   "metadata": {},
   "outputs": [],
   "source": [
    "with gr.Blocks(theme=gr.themes.Monochrome(), css=\"footer {display: none;}\") as demo:\n",
    "    gr.Markdown(\"\"\"\n",
    "    # 🤖 Multi-Task Chatbot\n",
    "    _Your smart assistant for FAQs, Math help, and Jokes!_\n",
    "    \"\"\")\n",
    "\n",
    "    with gr.Row():\n",
    "        task = gr.Dropdown([\"FAQ\", \"Math\", \"Joke\"], label=\"Choose Task\", interactive=True)\n",
    "        user_input = gr.Textbox(lines=1, placeholder=\"Type your message here...\", label=\"Input\")\n",
    "\n",
    "    with gr.Row():\n",
    "        submit_btn = gr.Button(\"🚀 Send\", variant=\"primary\")\n",
    "        clear_btn = gr.Button(\"🧹 Clear Chat\")\n",
    "\n",
    "    gr.Markdown(\"---\")\n",
    "\n",
    "    with gr.Row():\n",
    "        chat_output = gr.Markdown(label=\"📜 Chat History\", elem_id=\"chat_history\")\n",
    "        latest_response = gr.Textbox(label=\"💬 Latest Response\", lines=8, interactive=False)\n",
    "\n",
    "    submit_btn.click(chat, inputs=[task, user_input], outputs=[chat_output, latest_response])\n",
    "    clear_btn.click(clear, outputs=[chat_output, latest_response])\n"
   ]
  },
  {
   "cell_type": "code",
   "execution_count": 23,
   "id": "e3310d87",
   "metadata": {},
   "outputs": [
    {
     "name": "stdout",
     "output_type": "stream",
     "text": [
      "Running on local URL:  http://127.0.0.1:7865\n",
      "\n",
      "To create a public link, set `share=True` in `launch()`.\n"
     ]
    },
    {
     "data": {
      "text/html": [
       "<div><iframe src=\"http://127.0.0.1:7865/\" width=\"100%\" height=\"500\" allow=\"autoplay; camera; microphone; clipboard-read; clipboard-write;\" frameborder=\"0\" allowfullscreen></iframe></div>"
      ],
      "text/plain": [
       "<IPython.core.display.HTML object>"
      ]
     },
     "metadata": {},
     "output_type": "display_data"
    },
    {
     "data": {
      "text/plain": []
     },
     "execution_count": 23,
     "metadata": {},
     "output_type": "execute_result"
    }
   ],
   "source": [
    "demo.launch()"
   ]
  }
 ],
 "metadata": {
  "kernelspec": {
   "display_name": "base",
   "language": "python",
   "name": "python3"
  },
  "language_info": {
   "codemirror_mode": {
    "name": "ipython",
    "version": 3
   },
   "file_extension": ".py",
   "mimetype": "text/x-python",
   "name": "python",
   "nbconvert_exporter": "python",
   "pygments_lexer": "ipython3",
   "version": "3.11.7"
  }
 },
 "nbformat": 4,
 "nbformat_minor": 5
}
